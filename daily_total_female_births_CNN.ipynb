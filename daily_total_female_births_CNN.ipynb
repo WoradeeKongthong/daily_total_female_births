{
  "nbformat": 4,
  "nbformat_minor": 0,
  "metadata": {
    "colab": {
      "name": "daily_total_female_births_CNN.ipynb",
      "provenance": [],
      "authorship_tag": "ABX9TyMLKWPvh8ImkdWn+78k0zWE",
      "include_colab_link": true
    },
    "kernelspec": {
      "name": "python3",
      "display_name": "Python 3"
    }
  },
  "cells": [
    {
      "cell_type": "markdown",
      "metadata": {
        "id": "view-in-github",
        "colab_type": "text"
      },
      "source": [
        "<a href=\"https://colab.research.google.com/github/WoradeeKongthong/daily_total_female_births/blob/master/daily_total_female_births_CNN.ipynb\" target=\"_parent\"><img src=\"https://colab.research.google.com/assets/colab-badge.svg\" alt=\"Open In Colab\"/></a>"
      ]
    },
    {
      "cell_type": "markdown",
      "metadata": {
        "id": "pouPhQOjqde5",
        "colab_type": "text"
      },
      "source": [
        "# CNN for Time Series Forecasting (Crash Course by MachineLearningMastery)"
      ]
    },
    {
      "cell_type": "code",
      "metadata": {
        "id": "NIYI9AM2q5yd",
        "colab_type": "code",
        "colab": {
          "base_uri": "https://localhost:8080/",
          "height": 71
        },
        "outputId": "87d67239-bdaf-4643-b43e-e9bcbcf26904"
      },
      "source": [
        "import pandas as pd\n",
        "import numpy as np\n",
        "import matplotlib.pyplot as plt\n",
        "import seaborn as sns\n",
        "from datetime import datetime"
      ],
      "execution_count": 1,
      "outputs": [
        {
          "output_type": "stream",
          "text": [
            "/usr/local/lib/python3.6/dist-packages/statsmodels/tools/_testing.py:19: FutureWarning: pandas.util.testing is deprecated. Use the functions in the public API at pandas.testing instead.\n",
            "  import pandas.util.testing as tm\n"
          ],
          "name": "stderr"
        }
      ]
    },
    {
      "cell_type": "markdown",
      "metadata": {
        "id": "41MhswAMq3A3",
        "colab_type": "text"
      },
      "source": [
        "# Dataset"
      ]
    },
    {
      "cell_type": "code",
      "metadata": {
        "id": "O7zVsvWrqzq-",
        "colab_type": "code",
        "colab": {}
      },
      "source": [
        "df = pd.read_csv('https://raw.githubusercontent.com/jbrownlee/Datasets/master/daily-total-female-births.csv')"
      ],
      "execution_count": 0,
      "outputs": []
    },
    {
      "cell_type": "code",
      "metadata": {
        "id": "qhSxzyLirA0c",
        "colab_type": "code",
        "outputId": "a7bf0661-9588-47b0-b315-eccfa6c80861",
        "colab": {
          "base_uri": "https://localhost:8080/",
          "height": 419
        }
      },
      "source": [
        "df"
      ],
      "execution_count": 0,
      "outputs": [
        {
          "output_type": "execute_result",
          "data": {
            "text/html": [
              "<div>\n",
              "<style scoped>\n",
              "    .dataframe tbody tr th:only-of-type {\n",
              "        vertical-align: middle;\n",
              "    }\n",
              "\n",
              "    .dataframe tbody tr th {\n",
              "        vertical-align: top;\n",
              "    }\n",
              "\n",
              "    .dataframe thead th {\n",
              "        text-align: right;\n",
              "    }\n",
              "</style>\n",
              "<table border=\"1\" class=\"dataframe\">\n",
              "  <thead>\n",
              "    <tr style=\"text-align: right;\">\n",
              "      <th></th>\n",
              "      <th>Date</th>\n",
              "      <th>Births</th>\n",
              "    </tr>\n",
              "  </thead>\n",
              "  <tbody>\n",
              "    <tr>\n",
              "      <th>0</th>\n",
              "      <td>1959-01-01</td>\n",
              "      <td>35</td>\n",
              "    </tr>\n",
              "    <tr>\n",
              "      <th>1</th>\n",
              "      <td>1959-01-02</td>\n",
              "      <td>32</td>\n",
              "    </tr>\n",
              "    <tr>\n",
              "      <th>2</th>\n",
              "      <td>1959-01-03</td>\n",
              "      <td>30</td>\n",
              "    </tr>\n",
              "    <tr>\n",
              "      <th>3</th>\n",
              "      <td>1959-01-04</td>\n",
              "      <td>31</td>\n",
              "    </tr>\n",
              "    <tr>\n",
              "      <th>4</th>\n",
              "      <td>1959-01-05</td>\n",
              "      <td>44</td>\n",
              "    </tr>\n",
              "    <tr>\n",
              "      <th>...</th>\n",
              "      <td>...</td>\n",
              "      <td>...</td>\n",
              "    </tr>\n",
              "    <tr>\n",
              "      <th>360</th>\n",
              "      <td>1959-12-27</td>\n",
              "      <td>37</td>\n",
              "    </tr>\n",
              "    <tr>\n",
              "      <th>361</th>\n",
              "      <td>1959-12-28</td>\n",
              "      <td>52</td>\n",
              "    </tr>\n",
              "    <tr>\n",
              "      <th>362</th>\n",
              "      <td>1959-12-29</td>\n",
              "      <td>48</td>\n",
              "    </tr>\n",
              "    <tr>\n",
              "      <th>363</th>\n",
              "      <td>1959-12-30</td>\n",
              "      <td>55</td>\n",
              "    </tr>\n",
              "    <tr>\n",
              "      <th>364</th>\n",
              "      <td>1959-12-31</td>\n",
              "      <td>50</td>\n",
              "    </tr>\n",
              "  </tbody>\n",
              "</table>\n",
              "<p>365 rows × 2 columns</p>\n",
              "</div>"
            ],
            "text/plain": [
              "           Date  Births\n",
              "0    1959-01-01      35\n",
              "1    1959-01-02      32\n",
              "2    1959-01-03      30\n",
              "3    1959-01-04      31\n",
              "4    1959-01-05      44\n",
              "..          ...     ...\n",
              "360  1959-12-27      37\n",
              "361  1959-12-28      52\n",
              "362  1959-12-29      48\n",
              "363  1959-12-30      55\n",
              "364  1959-12-31      50\n",
              "\n",
              "[365 rows x 2 columns]"
            ]
          },
          "metadata": {
            "tags": []
          },
          "execution_count": 3
        }
      ]
    },
    {
      "cell_type": "code",
      "metadata": {
        "id": "OpaxVDH0rC4c",
        "colab_type": "code",
        "outputId": "df3f174f-cd51-41a4-c9ad-bf2c219b9fea",
        "colab": {
          "base_uri": "https://localhost:8080/",
          "height": 170
        }
      },
      "source": [
        "df.info()"
      ],
      "execution_count": 0,
      "outputs": [
        {
          "output_type": "stream",
          "text": [
            "<class 'pandas.core.frame.DataFrame'>\n",
            "RangeIndex: 365 entries, 0 to 364\n",
            "Data columns (total 2 columns):\n",
            " #   Column  Non-Null Count  Dtype \n",
            "---  ------  --------------  ----- \n",
            " 0   Date    365 non-null    object\n",
            " 1   Births  365 non-null    int64 \n",
            "dtypes: int64(1), object(1)\n",
            "memory usage: 5.8+ KB\n"
          ],
          "name": "stdout"
        }
      ]
    },
    {
      "cell_type": "markdown",
      "metadata": {
        "id": "yJRs324grGLa",
        "colab_type": "text"
      },
      "source": [
        "Note :  \n",
        "There is no missing values."
      ]
    },
    {
      "cell_type": "code",
      "metadata": {
        "id": "j-OdCeVHrxWI",
        "colab_type": "code",
        "colab": {}
      },
      "source": [
        "df['Date'] = pd.to_datetime(df['Date'])\n",
        "df.set_index('Date', inplace=True)"
      ],
      "execution_count": 0,
      "outputs": []
    },
    {
      "cell_type": "code",
      "metadata": {
        "id": "7BaIFPaKrL7a",
        "colab_type": "code",
        "outputId": "a2d772a5-19ea-47a2-df31-ce56b8fe5142",
        "colab": {
          "base_uri": "https://localhost:8080/",
          "height": 235
        }
      },
      "source": [
        "plt.figure(figsize=(12,4))\n",
        "sns.lineplot(data=df, y=df['Births'], x=df.index.values)\n",
        "plt.show()"
      ],
      "execution_count": 0,
      "outputs": [
        {
          "output_type": "display_data",
          "data": {
            "image/png": "[encoded data removed]",
            "text/plain": [
              "<Figure size 864x288 with 1 Axes>"
            ]
          },
          "metadata": {
            "tags": [],
            "needs_background": "light"
          }
        }
      ]
    },
    {
      "cell_type": "markdown",
      "metadata": {
        "id": "dSaO_ma9qr2X",
        "colab_type": "text"
      },
      "source": [
        "# CNN for Time Series Forecasting"
      ]
    },
    {
      "cell_type": "code",
      "metadata": {
        "id": "uVoOCWHmqZ2o",
        "colab_type": "code",
        "outputId": "106a3c9b-4003-4edb-cd92-dea5cedd35a1",
        "colab": {
          "base_uri": "https://localhost:8080/",
          "height": 34
        }
      },
      "source": [
        "data = df.loc[:,['Births']].values\n",
        "data.shape"
      ],
      "execution_count": 4,
      "outputs": [
        {
          "output_type": "execute_result",
          "data": {
            "text/plain": [
              "(365, 1)"
            ]
          },
          "metadata": {
            "tags": []
          },
          "execution_count": 4
        }
      ]
    },
    {
      "cell_type": "markdown",
      "metadata": {
        "id": "aUqazARHuO1Y",
        "colab_type": "text"
      },
      "source": [
        "Create dataset X and y for CNN :  \n",
        "X is the values of 5 days before the current day (3D array : [samples,timesteps,features]).  \n",
        "y is the current births (1D array)."
      ]
    },
    {
      "cell_type": "code",
      "metadata": {
        "id": "4MVxg3G7uihp",
        "colab_type": "code",
        "colab": {}
      },
      "source": [
        "look_back = 5\n",
        "X = []\n",
        "y = []\n",
        "for i in range(look_back,data.shape[0]):\n",
        "  X.append(data[i-look_back : i])\n",
        "  y.append(data[i])\n",
        "X = np.array(X)\n",
        "y = np.array(y)"
      ],
      "execution_count": 0,
      "outputs": []
    },
    {
      "cell_type": "code",
      "metadata": {
        "id": "Zipy9ggowFsM",
        "colab_type": "code",
        "outputId": "eec6915f-53d4-461a-fcf9-a861703b57d0",
        "colab": {
          "base_uri": "https://localhost:8080/",
          "height": 51
        }
      },
      "source": [
        "print('X shape : ', X.shape)\n",
        "print('y shape : ', y.shape)"
      ],
      "execution_count": 7,
      "outputs": [
        {
          "output_type": "stream",
          "text": [
            "X shape :  (360, 5, 1)\n",
            "y shape :  (360, 1)\n"
          ],
          "name": "stdout"
        }
      ]
    },
    {
      "cell_type": "markdown",
      "metadata": {
        "id": "BbfAT6OjyE8L",
        "colab_type": "text"
      },
      "source": [
        "Train-test-split"
      ]
    },
    {
      "cell_type": "code",
      "metadata": {
        "id": "fJC79_OCyHsT",
        "colab_type": "code",
        "colab": {}
      },
      "source": [
        "from sklearn.model_selection import train_test_split"
      ],
      "execution_count": 0,
      "outputs": []
    },
    {
      "cell_type": "code",
      "metadata": {
        "id": "j8OrGPq7yG-b",
        "colab_type": "code",
        "colab": {}
      },
      "source": [
        "X_train, X_test, y_train, y_test = train_test_split(X, y, test_size=0.2, shuffle=False)"
      ],
      "execution_count": 0,
      "outputs": []
    },
    {
      "cell_type": "markdown",
      "metadata": {
        "id": "PMUw6sqtw8Dv",
        "colab_type": "text"
      },
      "source": [
        "Create CNN"
      ]
    },
    {
      "cell_type": "code",
      "metadata": {
        "id": "nKWxxCdzxASn",
        "colab_type": "code",
        "colab": {}
      },
      "source": [
        "from keras.models import Sequential\n",
        "from keras.layers import Dense, Flatten\n",
        "from keras.layers.convolutional import Conv1D, MaxPooling1D\n",
        "from keras.metrics import RootMeanSquaredError as rmse"
      ],
      "execution_count": 0,
      "outputs": []
    },
    {
      "cell_type": "code",
      "metadata": {
        "id": "NfLLoAGZw71T",
        "colab_type": "code",
        "colab": {}
      },
      "source": [
        "model = Sequential()\n",
        "model.add(Conv1D(filters=64, kernel_size=2, activation='relu', input_shape=(X.shape[1],X.shape[2])))\n",
        "model.add(MaxPooling1D(pool_size=2))\n",
        "model.add(Flatten())\n",
        "model.add(Dense(50, activation='relu'))\n",
        "model.add(Dense(1))\n",
        "model.compile(optimizer='adam', loss='mean_squared_error', metrics=[rmse()])"
      ],
      "execution_count": 0,
      "outputs": []
    },
    {
      "cell_type": "markdown",
      "metadata": {
        "id": "ZnsVlFN1x0be",
        "colab_type": "text"
      },
      "source": [
        "Fit CNN"
      ]
    },
    {
      "cell_type": "code",
      "metadata": {
        "id": "swe71PjQx4Vx",
        "colab_type": "code",
        "colab": {}
      },
      "source": [
        "history = model.fit(X_train, y_train, epochs=1000, verbose=0)"
      ],
      "execution_count": 0,
      "outputs": []
    },
    {
      "cell_type": "code",
      "metadata": {
        "id": "-VdC9XLSyeo5",
        "colab_type": "code",
        "outputId": "297d3311-5cf1-4f1b-d82e-9c73fb6ec8a5",
        "colab": {
          "base_uri": "https://localhost:8080/",
          "height": 265
        }
      },
      "source": [
        "plt.plot(history.history['root_mean_squared_error'])\n",
        "plt.show()"
      ],
      "execution_count": 13,
      "outputs": [
        {
          "output_type": "display_data",
          "data": {
            "image/png": "[encoded data removed]",
            "text/plain": [
              "<Figure size 432x288 with 1 Axes>"
            ]
          },
          "metadata": {
            "tags": [],
            "needs_background": "light"
          }
        }
      ]
    },
    {
      "cell_type": "code",
      "metadata": {
        "id": "4bLyarOe0rXK",
        "colab_type": "code",
        "outputId": "a8d1b9f5-8223-4718-b98f-8f247a298655",
        "colab": {
          "base_uri": "https://localhost:8080/",
          "height": 51
        }
      },
      "source": [
        "train_score = model.evaluate(X_train, y_train, verbose=0)\n",
        "print('Train score (loss) : ', train_score[0])\n",
        "print('Train score (rmse) : ', train_score[1])"
      ],
      "execution_count": 14,
      "outputs": [
        {
          "output_type": "stream",
          "text": [
            "Train score (loss) :  50.16692097981771\n",
            "Train score (rmse) :  7.082860946655273\n"
          ],
          "name": "stdout"
        }
      ]
    },
    {
      "cell_type": "markdown",
      "metadata": {
        "id": "8h8AXjwT0RKm",
        "colab_type": "text"
      },
      "source": [
        "Prediction"
      ]
    },
    {
      "cell_type": "code",
      "metadata": {
        "id": "iOYEhGFu0CKW",
        "colab_type": "code",
        "colab": {}
      },
      "source": [
        "y_pred = model.predict(X_test, verbose=0)"
      ],
      "execution_count": 0,
      "outputs": []
    },
    {
      "cell_type": "code",
      "metadata": {
        "id": "J-O75q0_0h9Q",
        "colab_type": "code",
        "outputId": "ecd9b115-4906-43de-df91-40256a11f22a",
        "colab": {
          "base_uri": "https://localhost:8080/",
          "height": 266
        }
      },
      "source": [
        "plt.plot(y_test)\n",
        "plt.plot(y_pred)\n",
        "plt.show()"
      ],
      "execution_count": 16,
      "outputs": [
        {
          "output_type": "display_data",
          "data": {
            "image/png": "[encoded data removed]",
            "text/plain": [
              "<Figure size 432x288 with 1 Axes>"
            ]
          },
          "metadata": {
            "tags": [],
            "needs_background": "light"
          }
        }
      ]
    },
    {
      "cell_type": "code",
      "metadata": {
        "id": "x1TYLnJJ03c_",
        "colab_type": "code",
        "outputId": "a4087af3-c885-4dc6-9efd-5f457ff21a31",
        "colab": {
          "base_uri": "https://localhost:8080/",
          "height": 51
        }
      },
      "source": [
        "test_score = model.evaluate(X_test, y_test, verbose=0)\n",
        "print('Test score (loss) : ', test_score[0])\n",
        "print('Test score (rmse) : ', test_score[1])"
      ],
      "execution_count": 17,
      "outputs": [
        {
          "output_type": "stream",
          "text": [
            "Test score (loss) :  42.70711093478732\n",
            "Test score (rmse) :  6.535068035125732\n"
          ],
          "name": "stdout"
        }
      ]
    }
  ]
}