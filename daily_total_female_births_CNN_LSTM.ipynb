{
  "nbformat": 4,
  "nbformat_minor": 0,
  "metadata": {
    "colab": {
      "name": "daily_total_female_births_CNN-LSTM.ipynb",
      "provenance": [],
      "authorship_tag": "ABX9TyPdFkw/s+9gGhlzQElmkdXl",
      "include_colab_link": true
    },
    "kernelspec": {
      "name": "python3",
      "display_name": "Python 3"
    }
  },
  "cells": [
    {
      "cell_type": "markdown",
      "metadata": {
        "id": "view-in-github",
        "colab_type": "text"
      },
      "source": [
        "<a href=\"https://colab.research.google.com/github/WoradeeKongthong/daily_total_female_births/blob/master/daily_total_female_births_CNN_LSTM.ipynb\" target=\"_parent\"><img src=\"https://colab.research.google.com/assets/colab-badge.svg\" alt=\"Open In Colab\"/></a>"
      ]
    },
    {
      "cell_type": "markdown",
      "metadata": {
        "id": "pouPhQOjqde5",
        "colab_type": "text"
      },
      "source": [
        "# CNN-LSTM for Time Series Forecasting (Crash Course by MachineLearningMastery)"
      ]
    },
    {
      "cell_type": "code",
      "metadata": {
        "id": "NIYI9AM2q5yd",
        "colab_type": "code",
        "outputId": "fb2c7951-0bae-4572-fd3c-bd2b900b363d",
        "colab": {
          "base_uri": "https://localhost:8080/",
          "height": 71
        }
      },
      "source": [
        "import pandas as pd\n",
        "import numpy as np\n",
        "import matplotlib.pyplot as plt\n",
        "import seaborn as sns\n",
        "from datetime import datetime"
      ],
      "execution_count": 1,
      "outputs": [
        {
          "output_type": "stream",
          "text": [
            "/usr/local/lib/python3.6/dist-packages/statsmodels/tools/_testing.py:19: FutureWarning: pandas.util.testing is deprecated. Use the functions in the public API at pandas.testing instead.\n",
            "  import pandas.util.testing as tm\n"
          ],
          "name": "stderr"
        }
      ]
    },
    {
      "cell_type": "markdown",
      "metadata": {
        "id": "41MhswAMq3A3",
        "colab_type": "text"
      },
      "source": [
        "# Dataset"
      ]
    },
    {
      "cell_type": "code",
      "metadata": {
        "id": "O7zVsvWrqzq-",
        "colab_type": "code",
        "colab": {}
      },
      "source": [
        "df = pd.read_csv('https://raw.githubusercontent.com/jbrownlee/Datasets/master/daily-total-female-births.csv')"
      ],
      "execution_count": 0,
      "outputs": []
    },
    {
      "cell_type": "code",
      "metadata": {
        "id": "qhSxzyLirA0c",
        "colab_type": "code",
        "outputId": "a7bf0661-9588-47b0-b315-eccfa6c80861",
        "colab": {
          "base_uri": "https://localhost:8080/",
          "height": 419
        }
      },
      "source": [
        "df"
      ],
      "execution_count": 0,
      "outputs": [
        {
          "output_type": "execute_result",
          "data": {
            "text/html": [
              "<div>\n",
              "<style scoped>\n",
              "    .dataframe tbody tr th:only-of-type {\n",
              "        vertical-align: middle;\n",
              "    }\n",
              "\n",
              "    .dataframe tbody tr th {\n",
              "        vertical-align: top;\n",
              "    }\n",
              "\n",
              "    .dataframe thead th {\n",
              "        text-align: right;\n",
              "    }\n",
              "</style>\n",
              "<table border=\"1\" class=\"dataframe\">\n",
              "  <thead>\n",
              "    <tr style=\"text-align: right;\">\n",
              "      <th></th>\n",
              "      <th>Date</th>\n",
              "      <th>Births</th>\n",
              "    </tr>\n",
              "  </thead>\n",
              "  <tbody>\n",
              "    <tr>\n",
              "      <th>0</th>\n",
              "      <td>1959-01-01</td>\n",
              "      <td>35</td>\n",
              "    </tr>\n",
              "    <tr>\n",
              "      <th>1</th>\n",
              "      <td>1959-01-02</td>\n",
              "      <td>32</td>\n",
              "    </tr>\n",
              "    <tr>\n",
              "      <th>2</th>\n",
              "      <td>1959-01-03</td>\n",
              "      <td>30</td>\n",
              "    </tr>\n",
              "    <tr>\n",
              "      <th>3</th>\n",
              "      <td>1959-01-04</td>\n",
              "      <td>31</td>\n",
              "    </tr>\n",
              "    <tr>\n",
              "      <th>4</th>\n",
              "      <td>1959-01-05</td>\n",
              "      <td>44</td>\n",
              "    </tr>\n",
              "    <tr>\n",
              "      <th>...</th>\n",
              "      <td>...</td>\n",
              "      <td>...</td>\n",
              "    </tr>\n",
              "    <tr>\n",
              "      <th>360</th>\n",
              "      <td>1959-12-27</td>\n",
              "      <td>37</td>\n",
              "    </tr>\n",
              "    <tr>\n",
              "      <th>361</th>\n",
              "      <td>1959-12-28</td>\n",
              "      <td>52</td>\n",
              "    </tr>\n",
              "    <tr>\n",
              "      <th>362</th>\n",
              "      <td>1959-12-29</td>\n",
              "      <td>48</td>\n",
              "    </tr>\n",
              "    <tr>\n",
              "      <th>363</th>\n",
              "      <td>1959-12-30</td>\n",
              "      <td>55</td>\n",
              "    </tr>\n",
              "    <tr>\n",
              "      <th>364</th>\n",
              "      <td>1959-12-31</td>\n",
              "      <td>50</td>\n",
              "    </tr>\n",
              "  </tbody>\n",
              "</table>\n",
              "<p>365 rows × 2 columns</p>\n",
              "</div>"
            ],
            "text/plain": [
              "           Date  Births\n",
              "0    1959-01-01      35\n",
              "1    1959-01-02      32\n",
              "2    1959-01-03      30\n",
              "3    1959-01-04      31\n",
              "4    1959-01-05      44\n",
              "..          ...     ...\n",
              "360  1959-12-27      37\n",
              "361  1959-12-28      52\n",
              "362  1959-12-29      48\n",
              "363  1959-12-30      55\n",
              "364  1959-12-31      50\n",
              "\n",
              "[365 rows x 2 columns]"
            ]
          },
          "metadata": {
            "tags": []
          },
          "execution_count": 3
        }
      ]
    },
    {
      "cell_type": "code",
      "metadata": {
        "id": "OpaxVDH0rC4c",
        "colab_type": "code",
        "outputId": "df3f174f-cd51-41a4-c9ad-bf2c219b9fea",
        "colab": {
          "base_uri": "https://localhost:8080/",
          "height": 170
        }
      },
      "source": [
        "df.info()"
      ],
      "execution_count": 0,
      "outputs": [
        {
          "output_type": "stream",
          "text": [
            "<class 'pandas.core.frame.DataFrame'>\n",
            "RangeIndex: 365 entries, 0 to 364\n",
            "Data columns (total 2 columns):\n",
            " #   Column  Non-Null Count  Dtype \n",
            "---  ------  --------------  ----- \n",
            " 0   Date    365 non-null    object\n",
            " 1   Births  365 non-null    int64 \n",
            "dtypes: int64(1), object(1)\n",
            "memory usage: 5.8+ KB\n"
          ],
          "name": "stdout"
        }
      ]
    },
    {
      "cell_type": "markdown",
      "metadata": {
        "id": "yJRs324grGLa",
        "colab_type": "text"
      },
      "source": [
        "Note :  \n",
        "There is no missing values."
      ]
    },
    {
      "cell_type": "code",
      "metadata": {
        "id": "j-OdCeVHrxWI",
        "colab_type": "code",
        "colab": {}
      },
      "source": [
        "df['Date'] = pd.to_datetime(df['Date'])\n",
        "df.set_index('Date', inplace=True)"
      ],
      "execution_count": 0,
      "outputs": []
    },
    {
      "cell_type": "code",
      "metadata": {
        "id": "7BaIFPaKrL7a",
        "colab_type": "code",
        "outputId": "a2d772a5-19ea-47a2-df31-ce56b8fe5142",
        "colab": {
          "base_uri": "https://localhost:8080/",
          "height": 235
        }
      },
      "source": [
        "plt.figure(figsize=(12,4))\n",
        "sns.lineplot(data=df, y=df['Births'], x=df.index.values)\n",
        "plt.show()"
      ],
      "execution_count": 0,
      "outputs": [
        {
          "output_type": "display_data",
          "data": {
            "image/png": "[encoded data removed]",
            "text/plain": [
              "<Figure size 864x288 with 1 Axes>"
            ]
          },
          "metadata": {
            "tags": [],
            "needs_background": "light"
          }
        }
      ]
    },
    {
      "cell_type": "markdown",
      "metadata": {
        "id": "dSaO_ma9qr2X",
        "colab_type": "text"
      },
      "source": [
        "# CNN-LSTM for Time Series Forecasting\n",
        "CNN : interpret subsequence of input  \n",
        "LSTM : piece together in interpretations from subsequences  \n",
        "My choice : 4 subsequences of 2 timessteps = 8 timesteps input"
      ]
    },
    {
      "cell_type": "code",
      "metadata": {
        "id": "uVoOCWHmqZ2o",
        "colab_type": "code",
        "outputId": "5cc166bc-e0b4-4d0d-cccc-eb55a4357fee",
        "colab": {
          "base_uri": "https://localhost:8080/",
          "height": 34
        }
      },
      "source": [
        "data = df.loc[:,['Births']].values\n",
        "data.shape"
      ],
      "execution_count": 4,
      "outputs": [
        {
          "output_type": "execute_result",
          "data": {
            "text/plain": [
              "(365, 1)"
            ]
          },
          "metadata": {
            "tags": []
          },
          "execution_count": 4
        }
      ]
    },
    {
      "cell_type": "markdown",
      "metadata": {
        "id": "aUqazARHuO1Y",
        "colab_type": "text"
      },
      "source": [
        "Create dataset X and y for LSTM :  \n",
        "X is the values of 8 days before the current day (4D array : [samples, subsequences,timesteps,features]).  \n",
        "My choice : 4 subsequences of 2 timessteps = 8 timesteps input.  \n",
        "y is the current births (1D array)."
      ]
    },
    {
      "cell_type": "code",
      "metadata": {
        "id": "4MVxg3G7uihp",
        "colab_type": "code",
        "colab": {}
      },
      "source": [
        "look_back = 8\n",
        "subsequences = 4\n",
        "subsequence_timesteps = int(look_back/subsequences)\n",
        "X = []\n",
        "y = []\n",
        "for i in range(look_back,data.shape[0]):\n",
        "  X.append(data[i-look_back : i])\n",
        "  y.append(data[i])\n",
        "X = np.array(np.reshape(X, (len(X),subsequences,subsequence_timesteps,1)))\n",
        "y = np.array(y)"
      ],
      "execution_count": 0,
      "outputs": []
    },
    {
      "cell_type": "code",
      "metadata": {
        "id": "Zipy9ggowFsM",
        "colab_type": "code",
        "outputId": "c2019be7-3fbe-4c2b-d69b-bcfcbc0758ed",
        "colab": {
          "base_uri": "https://localhost:8080/",
          "height": 51
        }
      },
      "source": [
        "print('X shape : ', X.shape)\n",
        "print('y shape : ', y.shape)"
      ],
      "execution_count": 39,
      "outputs": [
        {
          "output_type": "stream",
          "text": [
            "X shape :  (357, 4, 2, 1)\n",
            "y shape :  (357, 1)\n"
          ],
          "name": "stdout"
        }
      ]
    },
    {
      "cell_type": "markdown",
      "metadata": {
        "id": "BbfAT6OjyE8L",
        "colab_type": "text"
      },
      "source": [
        "Train-test-split"
      ]
    },
    {
      "cell_type": "code",
      "metadata": {
        "id": "fJC79_OCyHsT",
        "colab_type": "code",
        "colab": {}
      },
      "source": [
        "from sklearn.model_selection import train_test_split"
      ],
      "execution_count": 0,
      "outputs": []
    },
    {
      "cell_type": "code",
      "metadata": {
        "id": "j8OrGPq7yG-b",
        "colab_type": "code",
        "colab": {}
      },
      "source": [
        "X_train, X_test, y_train, y_test = train_test_split(X, y, test_size=0.2, shuffle=False)"
      ],
      "execution_count": 0,
      "outputs": []
    },
    {
      "cell_type": "markdown",
      "metadata": {
        "id": "PMUw6sqtw8Dv",
        "colab_type": "text"
      },
      "source": [
        "Create LSTM  \n",
        "CNN : learn subsequences, then must be wrapped in TimeDistributed layer"
      ]
    },
    {
      "cell_type": "code",
      "metadata": {
        "id": "nKWxxCdzxASn",
        "colab_type": "code",
        "colab": {}
      },
      "source": [
        "from keras.models import Sequential\n",
        "from keras.layers import Dense, LSTM, Flatten, TimeDistributed\n",
        "from keras.layers.convolutional import Conv1D, MaxPooling1D\n",
        "from keras.metrics import RootMeanSquaredError as rmse"
      ],
      "execution_count": 0,
      "outputs": []
    },
    {
      "cell_type": "code",
      "metadata": {
        "id": "NfLLoAGZw71T",
        "colab_type": "code",
        "colab": {}
      },
      "source": [
        "model = Sequential()\n",
        "model.add(TimeDistributed(Conv1D(filters=64, kernel_size=1, activation='relu'), input_shape=(None, subsequence_timesteps, X.shape[3])))\n",
        "model.add(TimeDistributed(MaxPooling1D(pool_size=2)))\n",
        "model.add(TimeDistributed(Flatten()))\n",
        "model.add(LSTM(50, activation='relu'))\n",
        "model.add(Dense(1))\n",
        "model.compile(optimizer='adam', loss='mean_squared_error', metrics=[rmse()])"
      ],
      "execution_count": 0,
      "outputs": []
    },
    {
      "cell_type": "code",
      "metadata": {
        "id": "lzO2Zqbh8Xmp",
        "colab_type": "code",
        "colab": {
          "base_uri": "https://localhost:8080/",
          "height": 323
        },
        "outputId": "4f9eb5c1-fb43-4bb2-b88f-5c98ad5288af"
      },
      "source": [
        "model.summary()"
      ],
      "execution_count": 46,
      "outputs": [
        {
          "output_type": "stream",
          "text": [
            "Model: \"sequential_14\"\n",
            "_________________________________________________________________\n",
            "Layer (type)                 Output Shape              Param #   \n",
            "=================================================================\n",
            "time_distributed_35 (TimeDis (None, None, 2, 64)       128       \n",
            "_________________________________________________________________\n",
            "time_distributed_36 (TimeDis (None, None, 1, 64)       0         \n",
            "_________________________________________________________________\n",
            "time_distributed_37 (TimeDis (None, None, 64)          0         \n",
            "_________________________________________________________________\n",
            "lstm_10 (LSTM)               (None, 50)                23000     \n",
            "_________________________________________________________________\n",
            "dense_10 (Dense)             (None, 1)                 51        \n",
            "=================================================================\n",
            "Total params: 23,179\n",
            "Trainable params: 23,179\n",
            "Non-trainable params: 0\n",
            "_________________________________________________________________\n"
          ],
          "name": "stdout"
        }
      ]
    },
    {
      "cell_type": "markdown",
      "metadata": {
        "id": "ZnsVlFN1x0be",
        "colab_type": "text"
      },
      "source": [
        "Fit CNN-LSTM"
      ]
    },
    {
      "cell_type": "code",
      "metadata": {
        "id": "swe71PjQx4Vx",
        "colab_type": "code",
        "colab": {}
      },
      "source": [
        "history = model.fit(X_train, y_train, epochs=1000, verbose=0)"
      ],
      "execution_count": 0,
      "outputs": []
    },
    {
      "cell_type": "code",
      "metadata": {
        "id": "-VdC9XLSyeo5",
        "colab_type": "code",
        "outputId": "f62d0cf2-30b2-45b6-e68a-833c07b41cbe",
        "colab": {
          "base_uri": "https://localhost:8080/",
          "height": 265
        }
      },
      "source": [
        "plt.plot(history.history['root_mean_squared_error'])\n",
        "plt.show()"
      ],
      "execution_count": 48,
      "outputs": [
        {
          "output_type": "display_data",
          "data": {
            "image/png": "[encoded data removed]",
            "text/plain": [
              "<Figure size 432x288 with 1 Axes>"
            ]
          },
          "metadata": {
            "tags": [],
            "needs_background": "light"
          }
        }
      ]
    },
    {
      "cell_type": "code",
      "metadata": {
        "id": "4bLyarOe0rXK",
        "colab_type": "code",
        "outputId": "c0dd0c99-2b96-4c10-bdc2-16396f0ce508",
        "colab": {
          "base_uri": "https://localhost:8080/",
          "height": 51
        }
      },
      "source": [
        "train_score = model.evaluate(X_train, y_train, verbose=0)\n",
        "print('Train score (loss) : ', train_score[0])\n",
        "print('Train score (rmse) : ', train_score[1])"
      ],
      "execution_count": 49,
      "outputs": [
        {
          "output_type": "stream",
          "text": [
            "Train score (loss) :  46.25143368369655\n",
            "Train score (rmse) :  6.800840377807617\n"
          ],
          "name": "stdout"
        }
      ]
    },
    {
      "cell_type": "markdown",
      "metadata": {
        "id": "8h8AXjwT0RKm",
        "colab_type": "text"
      },
      "source": [
        "Prediction"
      ]
    },
    {
      "cell_type": "code",
      "metadata": {
        "id": "iOYEhGFu0CKW",
        "colab_type": "code",
        "colab": {}
      },
      "source": [
        "y_pred = model.predict(X_test, verbose=0)"
      ],
      "execution_count": 0,
      "outputs": []
    },
    {
      "cell_type": "code",
      "metadata": {
        "id": "J-O75q0_0h9Q",
        "colab_type": "code",
        "outputId": "4657d42c-3dc9-4a34-f31d-4c5e71bd89cc",
        "colab": {
          "base_uri": "https://localhost:8080/",
          "height": 266
        }
      },
      "source": [
        "plt.plot(y_test)\n",
        "plt.plot(y_pred)\n",
        "plt.show()"
      ],
      "execution_count": 51,
      "outputs": [
        {
          "output_type": "display_data",
          "data": {
            "image/png": "[encoded data removed]",
            "text/plain": [
              "<Figure size 432x288 with 1 Axes>"
            ]
          },
          "metadata": {
            "tags": [],
            "needs_background": "light"
          }
        }
      ]
    },
    {
      "cell_type": "code",
      "metadata": {
        "id": "x1TYLnJJ03c_",
        "colab_type": "code",
        "outputId": "2056c62d-b473-4830-db1b-7b441eaace85",
        "colab": {
          "base_uri": "https://localhost:8080/",
          "height": 51
        }
      },
      "source": [
        "test_score = model.evaluate(X_test, y_test, verbose=0)\n",
        "print('Test score (loss) : ', test_score[0])\n",
        "print('Test score (rmse) : ', test_score[1])"
      ],
      "execution_count": 52,
      "outputs": [
        {
          "output_type": "stream",
          "text": [
            "Test score (loss) :  49.21159532335069\n",
            "Test score (rmse) :  7.015097618103027\n"
          ],
          "name": "stdout"
        }
      ]
    }
  ]
}